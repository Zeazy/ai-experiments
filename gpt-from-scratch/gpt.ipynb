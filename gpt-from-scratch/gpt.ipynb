{
 "cells": [
  {
   "attachments": {},
   "cell_type": "markdown",
   "metadata": {},
   "source": [
    "## Let's build GPT: from scratch, in code, spelled out"
   ]
  },
  {
   "cell_type": "code",
   "execution_count": 2,
   "metadata": {},
   "outputs": [],
   "source": [
    "with open(\"input.txt\") as f:\n",
    "    text = f.read()\n",
    "\n",
    "chars = sorted(list(set(text)))\n",
    "vocab_size = len(chars)"
   ]
  },
  {
   "cell_type": "code",
   "execution_count": 3,
   "metadata": {},
   "outputs": [],
   "source": [
    "# set up encoders and decoders\n",
    "\n",
    "stoi = {ch: i for i, ch in enumerate(chars)}\n",
    "itos = {i: ch for i, ch in enumerate(chars)}\n",
    "encode = lambda s: [\n",
    "    stoi[c] for c in s\n",
    "]  # encode - take a string and output a list of integers\n",
    "decode = lambda s: \"\".join([itos[c] for c in s])"
   ]
  },
  {
   "cell_type": "code",
   "execution_count": 4,
   "metadata": {},
   "outputs": [
    {
     "name": "stdout",
     "output_type": "stream",
     "text": [
      "torch.Size([1115394]) torch.int64\n"
     ]
    }
   ],
   "source": [
    "import torch\n",
    "data = torch.tensor(encode(text), dtype=torch.long)\n",
    "print(data.shape, data.dtype)"
   ]
  },
  {
   "cell_type": "code",
   "execution_count": 5,
   "metadata": {},
   "outputs": [
    {
     "data": {
      "text/plain": [
       "tensor([18, 47, 56, 57, 58,  1, 15, 47, 58])"
      ]
     },
     "execution_count": 5,
     "metadata": {},
     "output_type": "execute_result"
    }
   ],
   "source": [
    "n = int(0.9 * len(data))\n",
    "train_data = data[:n]\n",
    "val_data = data[n:]\n",
    "\n",
    "# train on randomnly sample 'chunks' of training data at once\n",
    "block_size = 8\n",
    "train_data[: block_size + 1]"
   ]
  },
  {
   "cell_type": "code",
   "execution_count": 10,
   "metadata": {},
   "outputs": [
    {
     "name": "stdout",
     "output_type": "stream",
     "text": [
      "tensor([18, 47, 56, 57, 58,  1, 15, 47])\n",
      "tensor([47, 56, 57, 58,  1, 15, 47, 58])\n",
      "When input is tensor([18]) the target is: 47\n",
      "When input is tensor([18, 47]) the target is: 56\n",
      "When input is tensor([18, 47, 56]) the target is: 57\n",
      "When input is tensor([18, 47, 56, 57]) the target is: 58\n",
      "When input is tensor([18, 47, 56, 57, 58]) the target is: 1\n",
      "When input is tensor([18, 47, 56, 57, 58,  1]) the target is: 15\n",
      "When input is tensor([18, 47, 56, 57, 58,  1, 15]) the target is: 47\n",
      "When input is tensor([18, 47, 56, 57, 58,  1, 15, 47]) the target is: 58\n"
     ]
    }
   ],
   "source": [
    "x = train_data[:block_size]\n",
    "y = train_data[1:block_size+1]\n",
    "\n",
    "for t in range(block_size):\n",
    "    context = x[:t+1]\n",
    "    target = y[t]\n",
    "    print(f\"When input is {context} the target is: {target}\")"
   ]
  },
  {
   "cell_type": "code",
   "execution_count": 16,
   "metadata": {},
   "outputs": [
    {
     "name": "stdout",
     "output_type": "stream",
     "text": [
      "tensor([ 76049, 234249, 934904, 560986])\n",
      "inputs:\n",
      "tensor([[24, 43, 58,  5, 57,  1, 46, 43],\n",
      "        [44, 53, 56,  1, 58, 46, 39, 58],\n",
      "        [52, 58,  1, 58, 46, 39, 58,  1],\n",
      "        [25, 17, 27, 10,  0, 21,  1, 54]])\n",
      "torch.Size([4, 8])\n",
      "targets:\n",
      "tensor([[43, 58,  5, 57,  1, 46, 43, 39],\n",
      "        [53, 56,  1, 58, 46, 39, 58,  1],\n",
      "        [58,  1, 58, 46, 39, 58,  1, 46],\n",
      "        [17, 27, 10,  0, 21,  1, 54, 39]])\n",
      "-----\n",
      "when the input is [24], the target is: 43\n",
      "when the input is [24, 43], the target is: 58\n",
      "when the input is [24, 43, 58], the target is: 5\n",
      "when the input is [24, 43, 58, 5], the target is: 57\n",
      "when the input is [24, 43, 58, 5, 57], the target is: 1\n",
      "when the input is [24, 43, 58, 5, 57, 1], the target is: 46\n",
      "when the input is [24, 43, 58, 5, 57, 1, 46], the target is: 43\n",
      "when the input is [24, 43, 58, 5, 57, 1, 46, 43], the target is: 39\n",
      "when the input is [44], the target is: 53\n",
      "when the input is [44, 53], the target is: 56\n",
      "when the input is [44, 53, 56], the target is: 1\n",
      "when the input is [44, 53, 56, 1], the target is: 58\n",
      "when the input is [44, 53, 56, 1, 58], the target is: 46\n",
      "when the input is [44, 53, 56, 1, 58, 46], the target is: 39\n",
      "when the input is [44, 53, 56, 1, 58, 46, 39], the target is: 58\n",
      "when the input is [44, 53, 56, 1, 58, 46, 39, 58], the target is: 1\n",
      "when the input is [52], the target is: 58\n",
      "when the input is [52, 58], the target is: 1\n",
      "when the input is [52, 58, 1], the target is: 58\n",
      "when the input is [52, 58, 1, 58], the target is: 46\n",
      "when the input is [52, 58, 1, 58, 46], the target is: 39\n",
      "when the input is [52, 58, 1, 58, 46, 39], the target is: 58\n",
      "when the input is [52, 58, 1, 58, 46, 39, 58], the target is: 1\n",
      "when the input is [52, 58, 1, 58, 46, 39, 58, 1], the target is: 46\n",
      "when the input is [25], the target is: 17\n",
      "when the input is [25, 17], the target is: 27\n",
      "when the input is [25, 17, 27], the target is: 10\n",
      "when the input is [25, 17, 27, 10], the target is: 0\n",
      "when the input is [25, 17, 27, 10, 0], the target is: 21\n",
      "when the input is [25, 17, 27, 10, 0, 21], the target is: 1\n",
      "when the input is [25, 17, 27, 10, 0, 21, 1], the target is: 54\n",
      "when the input is [25, 17, 27, 10, 0, 21, 1, 54], the target is: 39\n"
     ]
    }
   ],
   "source": [
    "torch.manual_seed(1337) # leet\n",
    "batch_size = 4 # how many independent sequences to parallel process\n",
    "block_size = 8 # maximum context length for predictions\n",
    "\n",
    "def get_batch(split):\n",
    "    # generate a small batch of inputs x and targets y\n",
    "    data = train_data if split == \"train\" else val_data\n",
    "    ix = torch.randint(len(data) - block_size, (batch_size,))\n",
    "    print(ix)\n",
    "    x = torch.stack([data[i:i+block_size] for i in ix])\n",
    "    y = torch.stack([data[i+1:i+block_size + 1] for i in ix])\n",
    "    return x, y\n",
    "\n",
    "xb, yb = get_batch(\"train\")\n",
    "print(\"inputs:\")\n",
    "print(xb)\n",
    "print(xb.shape)\n",
    "print(\"targets:\")\n",
    "print(yb)\n",
    "\n",
    "print(\"-----\")\n",
    "\n",
    "for b in range(batch_size): # batch dimension\n",
    "    for t in range(block_size): # time dimension\n",
    "        context = xb[b, :t+1]\n",
    "        target = yb[b, t]\n",
    "        print(f\"when the input is {context.tolist()}, the target is: {target}\")\n",
    "        "
   ]
  },
  {
   "cell_type": "code",
   "execution_count": 28,
   "metadata": {},
   "outputs": [
    {
     "name": "stdout",
     "output_type": "stream",
     "text": [
      "torch.Size([32, 65])\n",
      "Current loss: 4.689231872558594, Expected loss: 4.174387269895637\n"
     ]
    }
   ],
   "source": [
    "# Using the simplest possible neural network (in Andrej's opinion):\n",
    "# BigramLanguageModel\n",
    "# TODO: Go back to 'Make More' series for more in-depth tutorial on this model\n",
    "# TODO: Go back to 'Make More' series regarding negative loss likelihood\n",
    "import math\n",
    "import torch\n",
    "import torch.nn as nn\n",
    "from torch.nn import functional as F\n",
    "\n",
    "class BigramLanguageModel(nn.Module):\n",
    "    def __init__(self, vocab_size):\n",
    "        super().__init__()\n",
    "        # each token directly reads off the logits for the next token from a lookup table\n",
    "        self.token_embeddings_table = nn.Embedding(vocab_size, vocab_size) # embedding table of shape (vocab_size, vocab_size) = (65, 65)\n",
    "        \n",
    "    def forward(self, idx, targets = None):\n",
    "        # idx and targets are both (B, T) tensors of \n",
    "        \n",
    "        if targets is None:\n",
    "            loss = None\n",
    "        else:\n",
    "            logits = self.token_embeddings_table(idx) # (B, T, C) = Batch by time by channel tensor - In our case, B = 4, T = 8, C = vocab_size\n",
    "            B, T, C = logits.shape\n",
    "            logits = logits.view(B*T, C)\n",
    "            targets = targets.view(B*T)\n",
    "            loss = F.cross_entropy(logits, targets) # \"How well are we correctly predicting the next character based on the logits?\"\n",
    "            \n",
    "        return logits, loss\n",
    "    \n",
    "m = BigramLanguageModel(vocab_size)\n",
    "logits, loss = m(xb, yb)\n",
    "print(logits.shape)\n",
    "print(f\"Current loss: {loss}, Expected loss: {-math.log(1/vocab_size)}\") # negative log likelihood     \n",
    "        "
   ]
  }
 ],
 "metadata": {
  "kernelspec": {
   "display_name": "Python 3",
   "language": "python",
   "name": "python3"
  },
  "language_info": {
   "codemirror_mode": {
    "name": "ipython",
    "version": 3
   },
   "file_extension": ".py",
   "mimetype": "text/x-python",
   "name": "python",
   "nbconvert_exporter": "python",
   "pygments_lexer": "ipython3",
   "version": "3.10.3"
  },
  "orig_nbformat": 4
 },
 "nbformat": 4,
 "nbformat_minor": 2
}
